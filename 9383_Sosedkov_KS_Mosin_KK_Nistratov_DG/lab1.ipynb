{
 "cells": [
  {
   "cell_type": "markdown",
   "metadata": {},
   "source": [
    "# Лабораторная работа №1: Моделирование стандартных дискретных сигналов\n",
    "\n",
    "Выполнили студенты гр. 9383 Мосин Константин, Нистратов Дмитрий и Соседков Кирилл. \n",
    "\n",
    "Вариант №6"
   ]
  },
  {
   "cell_type": "markdown",
   "metadata": {},
   "source": [
    "## Цель работы\n",
    "\n",
    "Изучить математическое описание стандартных дискретных сигналов и овладеть программными средствами их моделирования."
   ]
  },
  {
   "cell_type": "markdown",
   "metadata": {},
   "source": [
    "## Основные теоретические положения\n",
    "\n",
    "Единичный цифровой импульс: $$\\delta_d(k) = \\begin{cases}1, & k = 0,\\\\0, & k \\neq 0.\\end{cases}, \\quad k = ..., -2, -1, 0, 1, 2,...$$\n",
    "\n",
    "Дискретный единичный скачок: $$\\sigma_d(k) = \\begin{cases}1, & k\\geq0,\\\\ 0,& k < 0.\\end{cases}, k = ..., -2, -1, 0, 1, 2,...$$\n",
    "\n",
    "Дискретная экспоненциальная функция: $$s(k) = \\begin{cases}0, & k < 0,\\\\ a^k, & k \\ge 0\\end{cases}, \\quad k = ..., -2, -1, 0, 1, 2,...$$\n",
    "\n",
    "Дискретный комплексный гармонический сигнал $$s_2(k)=C\\exp(j\\hatω_0k)$$"
   ]
  },
  {
   "cell_type": "markdown",
   "metadata": {},
   "source": [
    "## Постановка задачи\n",
    "\n",
    "С помощью программных средств провести моделирование и анализ стандартных дискретных последовательностей. Результаты подкрепить соответствующими графиками и выводами."
   ]
  },
  {
   "cell_type": "markdown",
   "metadata": {},
   "source": [
    "## Выполнение работы\n",
    "\n",
    "Пункты работы выполняются с помощью кода."
   ]
  },
  {
   "cell_type": "code",
   "execution_count": 45,
   "metadata": {},
   "outputs": [],
   "source": [
    "import numpy as np # контейнеры и матеша\n",
    "import matplotlib.pyplot as plt # каляка-маляка :)\n",
    "from scipy import signal # еще больше матеши"
   ]
  },
  {
   "cell_type": "code",
   "execution_count": 46,
   "metadata": {},
   "outputs": [],
   "source": [
    "Nb = 6\n",
    "N = 30 + np.mod(Nb, 5)\n",
    "T = 0.0005 * (1 + np.mod(Nb, 3))\n",
    "a = np.power(-1, Nb) * (0.8 + 0.005 * Nb)\n",
    "C = 1 + np.mod(Nb, 5)\n",
    "w0 = np.pi / (6 + np.mod(Nb, 5))\n",
    "m = 5 + np.mod(Nb, 5)"
   ]
  },
  {
   "cell_type": "markdown",
   "metadata": {},
   "source": [
    "1. Смоделировать единичный цифровой импульс $\\delta_d(k)$ с выводом графиков на интервале дискретного времени $nT \\in [0, (N - 1)T]$ и дискретного нормированного времени $n \\in [0, N - 1]$. Пояснить:\n",
    "    - взаимосвязь между дискретным и дискретным нормированным временем;\n",
    "    - различие между единичным цифровым импульсом и дельта-функцией."
   ]
  },
  {
   "cell_type": "markdown",
   "metadata": {},
   "source": [
    "* Дискретное нормированное время $n$ есть дискретное время $nT$, где $T \\equiv 1$: $$x(nT)=x(n)$$\n",
    "* Длительность дельта-функция бесконечно мала, а ее амплитуда бесконечно велика. Для единичного цифрового импульса достаточно, чтобы длительность импульса была много меньше постоянной времени цепи."
   ]
  },
  {
   "cell_type": "code",
   "execution_count": 47,
   "metadata": {},
   "outputs": [
    {
     "data": {
      "image/png": "[encoded data removed]",
      "text/plain": [
       "<Figure size 432x288 with 1 Axes>"
      ]
     },
     "metadata": {
      "needs_background": "light"
     },
     "output_type": "display_data"
    }
   ],
   "source": [
    "delta = signal.unit_impulse(N) # моделируем сигнал\n",
    "time = np.linspace(0, (N - 1) * T, N) # дискретный временной промежуток от 0 до (N-1)T\n",
    "\n",
    "plt.stem(time, delta)\n",
    "plt.xlabel(\"Time\")\n",
    "plt.show()"
   ]
  },
  {
   "cell_type": "code",
   "execution_count": 48,
   "metadata": {},
   "outputs": [
    {
     "data": {
      "image/png": "[encoded data removed]",
      "text/plain": [
       "<Figure size 432x288 with 1 Axes>"
      ]
     },
     "metadata": {
      "needs_background": "light"
     },
     "output_type": "display_data"
    }
   ],
   "source": [
    "time = np.linspace(0, N - 1, N) # дискретный нормированный временной промежуток от 0 до N - 1\n",
    "\n",
    "plt.stem(time, delta)\n",
    "plt.xlabel(\"Normalized time\")\n",
    "plt.show()"
   ]
  },
  {
   "cell_type": "markdown",
   "metadata": {},
   "source": [
    "2. Смоделировать дискретный единичный скачок $\\sigma_d(k)$ с выводом графиков на интервале дискретного времени $nT \\in [0, (N - 1)T]$ и дискретного нормированного времени $n \\in [0, N - 1]$. Пояснить:\n",
    "    - соответствие между дискретным и аналоговым единичными скачками;\n",
    "    - чему равна частота дискретизации дискретного единичного скачка."
   ]
  },
  {
   "cell_type": "markdown",
   "metadata": {},
   "source": [
    "* Реальный аналоговый сигнал можно приближенно представить некоторой суммой единичных скачков, возникающих в последовательные моменты времени. Устремив к нулю длительность интервала времени между единичными скачками, в пределе будет получена точная огибающая реального исходного сигнала.\n",
    "\n",
    "* частота дискретизации дискретного единичного скачка равна $$f_Д=\\frac{1}{T}$$"
   ]
  },
  {
   "cell_type": "code",
   "execution_count": 49,
   "metadata": {},
   "outputs": [
    {
     "data": {
      "image/png": "[encoded data removed]",
      "text/plain": [
       "<Figure size 432x288 with 1 Axes>"
      ]
     },
     "metadata": {
      "needs_background": "light"
     },
     "output_type": "display_data"
    }
   ],
   "source": [
    "sigma = np.heaviside(np.arange(0, N), 1) # функция Хевисайда с 1 при t = 0, где t в промежутке [-N/2, N/2]\n",
    "time = np.linspace(0, (N - 1) * T, N) # дискретный временной промежуток от 0 до (N-1)T \n",
    "\n",
    "plt.stem(time, sigma)\n",
    "plt.xlabel(\"Time\")\n",
    "plt.show()"
   ]
  },
  {
   "cell_type": "code",
   "execution_count": 50,
   "metadata": {},
   "outputs": [
    {
     "data": {
      "image/png": "[encoded data removed]",
      "text/plain": [
       "<Figure size 432x288 with 1 Axes>"
      ]
     },
     "metadata": {
      "needs_background": "light"
     },
     "output_type": "display_data"
    }
   ],
   "source": [
    "time = np.linspace(0, N - 1, N) # дискретный нормированный временной промежуток от 0 до N - 1\n",
    "\n",
    "plt.stem(time, sigma)\n",
    "plt.xlabel(\"Normalized time\")\n",
    "plt.show()"
   ]
  },
  {
   "cell_type": "markdown",
   "metadata": {},
   "source": [
    "3. Смоделировать дискретную экспоненциальную функцию $s_1(k)$ с выводом графиков на интервале дискретного времени $nT \\in [0, (N - 1)T]$ и дискретного нормированного времени $n \\in [0, N - 1]$.\n",
    "Пояснить: \n",
    "    - соответствие между дискретной и аналоговой экспонентами.\n",
    "\n",
    "* Дискретная экспоненцильная функция и аналоговая экпоненциальная функция принимает значения $a^x$, однако дискретная экспоненциальная функция при значениях аргумента меньше 0 равна 0."
   ]
  },
  {
   "cell_type": "code",
   "execution_count": 51,
   "metadata": {},
   "outputs": [
    {
     "data": {
      "image/png": "[encoded data removed]",
      "text/plain": [
       "<Figure size 432x288 with 1 Axes>"
      ]
     },
     "metadata": {
      "needs_background": "light"
     },
     "output_type": "display_data"
    }
   ],
   "source": [
    "time = np.linspace(0, (N - 1), N)  # дискретный нормированный временной промежуток от 0 до N - 1\n",
    "s = np.array([np.power(a, k) if k >=0 else 0 for k in time]) # Дискретная экспоненциальная функция\n",
    "\n",
    "plt.stem(time, s)\n",
    "plt.show()"
   ]
  },
  {
   "cell_type": "code",
   "execution_count": 52,
   "metadata": {},
   "outputs": [
    {
     "data": {
      "image/png": "[encoded data removed]",
      "text/plain": [
       "<Figure size 432x288 with 1 Axes>"
      ]
     },
     "metadata": {
      "needs_background": "light"
     },
     "output_type": "display_data"
    }
   ],
   "source": [
    "time = np.linspace(0, (N - 1)* T, N) # дискретный временной промежуток от 0 до (N - 1) * T\n",
    "\n",
    "plt.stem(time, s)\n",
    "plt.xlabel(\"Normalized time\")\n",
    "plt.show()"
   ]
  },
  {
   "cell_type": "markdown",
   "metadata": {},
   "source": [
    "4. Смоделировать дискретный комплексный гармонический сигнал $s_2(k)=C\\exp(j\\hatω_0k)$ с выводом графиков вещественной и мнимой частей на интервале времени $n \\in [0,N−1]$."
   ]
  },
  {
   "cell_type": "code",
   "execution_count": 53,
   "metadata": {},
   "outputs": [
    {
     "data": {
      "image/png": "[encoded data removed]",
      "text/plain": [
       "<Figure size 432x288 with 1 Axes>"
      ]
     },
     "metadata": {
      "needs_background": "light"
     },
     "output_type": "display_data"
    },
    {
     "data": {
      "image/png": "[encoded data removed]",
      "text/plain": [
       "<Figure size 432x288 with 1 Axes>"
      ]
     },
     "metadata": {
      "needs_background": "light"
     },
     "output_type": "display_data"
    }
   ],
   "source": [
    "s2 = lambda k : C*np.exp(w0*k*1j) # дискретный комплексный гармонический сигнал\n",
    "x = np.arange(0, N) # интервал времени от 0 до N - 1\n",
    "y = s2(np.arange(0, N))\n",
    "\n",
    "plt.stem(x, y.real) # вещественная часть\n",
    "plt.show()\n",
    "plt.stem(x, y.imag) # мнимая часть\n",
    "plt.show()"
   ]
  },
  {
   "cell_type": "markdown",
   "metadata": {},
   "source": [
    "Записать данный сигнал в виде комбинации двух вещественных последовательностей.\n",
    "\n",
    "$$s_2(k)=C\\exp(j\\hatω_0k) = C(cos(\\hatω_0k) + sin(\\hatω_0k)j)$$"
   ]
  },
  {
   "cell_type": "markdown",
   "metadata": {},
   "source": [
    "\n",
    "5. Вывести графики последовательностей $\\delta_d(k)$, $\\sigma_d(k)$, $s_1(k)$, задержанных на $m$ отсчетов, на интервале времени $n \\in [0, N-1]$."
   ]
  },
  {
   "cell_type": "code",
   "execution_count": 54,
   "metadata": {},
   "outputs": [
    {
     "data": {
      "image/png": "[encoded data removed]",
      "text/plain": [
       "<Figure size 432x288 with 1 Axes>"
      ]
     },
     "metadata": {
      "needs_background": "light"
     },
     "output_type": "display_data"
    },
    {
     "data": {
      "image/png": "[encoded data removed]",
      "text/plain": [
       "<Figure size 432x288 with 1 Axes>"
      ]
     },
     "metadata": {
      "needs_background": "light"
     },
     "output_type": "display_data"
    },
    {
     "data": {
      "image/png": "[encoded data removed]",
      "text/plain": [
       "<Figure size 432x288 with 1 Axes>"
      ]
     },
     "metadata": {
      "needs_background": "light"
     },
     "output_type": "display_data"
    }
   ],
   "source": [
    "delta_d = lambda k: k == 0\n",
    "sigma_d = lambda k: (k >= 0)\n",
    "s1 = lambda k: (k >= 0)*(a)**(k) \n",
    "\n",
    "x = np.arange(0, N) # Интервал времени от 0 до N - 1\n",
    "\n",
    "plt.stem(x, delta_d(x-m))\n",
    "plt.show()\n",
    "\n",
    "plt.stem(x, sigma_d(x-m))\n",
    "plt.show()\n",
    "\n",
    "plt.stem(x, s1(x-m))\n",
    "plt.show()"
   ]
  },
  {
   "cell_type": "markdown",
   "metadata": {},
   "source": [
    "Записать формулы задержанных последовательностей.\n",
    "\n",
    "\n",
    "Единичный импульс\n",
    "\n",
    " $$\\delta_d(k-m) = \\begin{cases}\n",
    " 1, & k = m\\\\0,\n",
    " & k \\neq m\n",
    " \\end{cases} \n",
    " $$\n",
    " \n",
    " Единичный скачок\n",
    " \n",
    "$$\\sigma_d(k-m) = \\begin{cases}\n",
    " 1, & k \\ge m\\\\0,\n",
    " & k < m\n",
    " \\end{cases} \n",
    "$$\n",
    " \n",
    " \n",
    "Дискретная экспоненциальная функция\n",
    "$$s_1(k-m) = \\begin{cases}\n",
    "a^{k-m}, & k \\ge m\\\\0,\n",
    " & k < m\n",
    " \\end{cases} \n",
    "$$"
   ]
  },
  {
   "cell_type": "markdown",
   "metadata": {},
   "source": [
    "## Выводы\n",
    "\n",
    "В ходе выполнения лабораторной работы было изучено математическое описание стандартных дискретных сигналов, смоделированы: единичный цифровой импульс, дискретный цифровой скачок, дискретная экспоненциальная функция и дискретный комплексный гармоничный сигнал. С помощью программных средств языка python было произведено моделирование, анализ стандартных дискретных последовательностей и выведены графики моделей."
   ]
  }
 ],
 "metadata": {
  "kernelspec": {
   "display_name": "Python 3 (ipykernel)",
   "language": "python",
   "name": "python3"
  },
  "language_info": {
   "codemirror_mode": {
    "name": "ipython",
    "version": 3
   },
   "file_extension": ".py",
   "mimetype": "text/x-python",
   "name": "python",
   "nbconvert_exporter": "python",
   "pygments_lexer": "ipython3",
   "version": "3.9.6"
  },
  "vscode": {
   "interpreter": {
    "hash": "0c8fb0ed307ca28b24dfa1a7f29f08a659b2a258658a599279d676376742a53d"
   }
  }
 },
 "nbformat": 4,
 "nbformat_minor": 4
}
