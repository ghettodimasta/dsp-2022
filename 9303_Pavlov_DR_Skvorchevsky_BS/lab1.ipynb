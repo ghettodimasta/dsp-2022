{
 "cells": [
  {
   "cell_type": "markdown",
   "source": [
    "# Лабораторная работа №1: Моделирование стандартных дискретных сигналов\n",
    "\n",
    "Выполнили студенты гр. 9303 Павлов Дмитрий и Скворчевский Богдан. Вариант №10"
   ],
   "metadata": {
    "collapsed": false
   }
  },
  {
   "cell_type": "markdown",
   "source": [
    "## Цель работы\n",
    "\n",
    "Изучить математическое описание стандартных дискретных сигналов и овладеть программными средствами их моделирования."
   ],
   "metadata": {
    "collapsed": false
   }
  },
  {
   "cell_type": "markdown",
   "source": [
    "## Основные теоретические положения\n",
    "\n",
    "Единичный цифровой импульс: $$\\delta_d(k) = \\begin{cases}1, & k = 0,\\\\0, & k \\neq 0.\\end{cases}, \\quad k = ..., -2, -1, 0, 1, 2,...$$\n",
    "\n",
    "Дискретный единичный скачок: $$\\sigma_d(k) = \\begin{cases}1, & k\\geq0,\\\\ 0,& k < 0.\\end{cases}, k = ..., -2, -1, 0, 1, 2,...$$\n",
    "\n",
    "Дискретная экспоненциальная функция: $$s(k) = \\begin{cases}0, & k < 0,\\\\ a^k, & k \\ge 0\\end{cases}, \\quad k = ..., -2, -1, 0, 1, 2,...$$\n",
    "\n",
    "Дискретный комплексный гармонический сигнал $$s_2(k)=C\\exp(j\\hatω_0k)$$"
   ],
   "metadata": {
    "collapsed": false
   }
  },
  {
   "cell_type": "markdown",
   "source": [
    "## Постановка задачи\n",
    "\n",
    "С помощью программных средств провести моделирование и анализ стандартных дискретных последовательностей. Результаты подкрепить соответствующими графиками и выводами.\n",
    "\n",
    "1. Смоделировать единичный цифровой импульс $\\delta_d(k)$ с выводом графиков на интервале дискретного времени $nT \\in [0,(N−1)T]$ и дискретного нормированного времени $n \\in [0,N−1]$.\n",
    "Пояснить:\n",
    "    a. взаимосвязь между дискретным и дискретным нормированным временем;\n",
    "    b. различие между единичным цифровым импульсом и дельта-функцией.\n",
    "\n",
    "2. Смоделировать дискретный единичный скачок $\\sigma_d(k)$\n",
    "с выводом графиков на интервале дискретного времени $nT \\in [0,(N−1)T]$ и дискретного нормированного времени $n \\in [0,N−1]$.\n",
    "Пояснить:\n",
    "    a. соответствие между дискретным и аналоговым единичными скачками;\n",
    "    b. чему равна частота дискретизации дискретного единичного скачка.\n",
    "\n",
    "3. Смоделировать дискретную экспоненциальную функцию $s_1(k)$ с выводом графиков на интервале дискретного времени $nT \\in [0,(N−1)T]$ и дискретного нормированного времени $n \\in [0,N−1]$.  Пояснить соответствие между дискретной и аналоговой экспонентами.\n",
    "\n",
    "4. Смоделировать дискретный комплексный гармонический сигнал $s_2(k)=C \\cdot exp(j\\hat{\\omega}_0k)$с выводом графиков вещественной и мнимой частей на интервале времени $n \\in [0,N−1]$. Записать данный сигнал в виде комбинации двух вещественных последовательностей.\n",
    "5. Вывести графики последовательностей $\\delta_d(k), \\sigma_d(k)$ и $s_1(k)$, задержанных на m отсчетов, на интервале времени $n \\in [0,N−1]$. Записать формулы задержанных последовательностей.\n",
    "6. Сделать выводы.\n"
   ],
   "metadata": {
    "collapsed": false
   }
  },
  {
   "cell_type": "markdown",
   "source": [
    "## Выполнение работы"
   ],
   "metadata": {
    "collapsed": false
   }
  },
  {
   "cell_type": "code",
   "execution_count": null,
   "outputs": [],
   "source": [
    "import math\n",
    "import numpy as np\n",
    "from matplotlib import pyplot\n",
    "\n",
    "\n",
    "class Config:\n",
    "    def __init__(self, variant):\n",
    "        self.Nb = variant\n",
    "        self.N = 30 + self.Nb % 5\n",
    "        self.T = 0.0005 * (1 + self.Nb % 3)\n",
    "        self.a = (-1) ** self.Nb * (0.8 + 0.005 * self.Nb)\n",
    "        self.C = 1 + self.Nb % 5\n",
    "        self.omega = math.pi / (6 + self.Nb % 5)\n",
    "        self.m = 5 + self.Nb % 5\n",
    "\n",
    "\n",
    "config = Config(10)\n",
    "\n",
    "def get_plot(X, Y):\n",
    "    pyplot.clf()\n",
    "    pyplot.grid()\n",
    "    pyplot.stem(X, Y)\n",
    "    pyplot.show()\n",
    "\n",
    "\n",
    "discrete_time = [n * config.T for n in range(config.N)]\n",
    "discrete_normalized_time = [n for n in range(config.N)]"
   ],
   "metadata": {
    "collapsed": false,
    "pycharm": {
     "name": "#%%\n"
    }
   }
  },
  {
   "cell_type": "markdown",
   "source": [
    "Пункт 1."
   ],
   "metadata": {
    "collapsed": false
   }
  },
  {
   "cell_type": "code",
   "execution_count": null,
   "outputs": [],
   "source": [
    "impulse = [int(t == 0) for t in discrete_time]\n",
    "normalized_impulse = [int(t == 0) for t in discrete_normalized_time]\n",
    "\n",
    "get_plot(discrete_time, impulse)\n",
    "get_plot(discrete_normalized_time, normalized_impulse)"
   ],
   "metadata": {
    "collapsed": false,
    "pycharm": {
     "name": "#%%\n"
    }
   }
  },
  {
   "cell_type": "markdown",
   "source": [
    "a. Взаимосвязь между дискретным и дискретным нормированным временем: $n$ – это дискретное время $nT$ с периодом дискретизации $Т=1$  \n",
    "b. Различие между единичным цифровым импульсом и дельта-функцией: Амплитуда единичного импульса равна 1, амплитуда дельта-функции равно бесконечности  "
   ],
   "metadata": {
    "collapsed": false
   }
  },
  {
   "cell_type": "markdown",
   "source": [
    "Пункт 2."
   ],
   "metadata": {
    "collapsed": false
   }
  },
  {
   "cell_type": "code",
   "execution_count": null,
   "outputs": [],
   "source": [
    "dt_step = [int(t >= 0) for t in discrete_time]\n",
    "ndt_step = [int(t >= 0) for t in discrete_normalized_time]\n",
    "\n",
    "get_plot(discrete_time, dt_step)\n",
    "get_plot(discrete_normalized_time, ndt_step)"
   ],
   "metadata": {
    "collapsed": false,
    "pycharm": {
     "name": "#%%\n"
    }
   }
  },
  {
   "cell_type": "markdown",
   "source": [
    "а. Соответствие между дискретным и аналоговым единичными скачками: цифровой единичный скачок получается путем дискретизации аналогового единичного скачка  \n",
    "b. Чему равна частота дискретизации дискретного единичного скачка? Частота дискретизации $f_d = \\frac{1}{T}$:"
   ],
   "metadata": {
    "collapsed": false
   }
  },
  {
   "cell_type": "code",
   "execution_count": null,
   "outputs": [],
   "source": [
    "1/config.T"
   ],
   "metadata": {
    "collapsed": false,
    "pycharm": {
     "name": "#%%\n"
    }
   }
  },
  {
   "cell_type": "markdown",
   "source": [
    "$f_d$ = 1000.0"
   ],
   "metadata": {
    "collapsed": false
   }
  },
  {
   "cell_type": "markdown",
   "source": [
    "Пункт 3."
   ],
   "metadata": {
    "collapsed": false
   }
  },
  {
   "cell_type": "code",
   "execution_count": null,
   "outputs": [],
   "source": [
    "dt_exp = [0 if t < 0 else config.a ** t for t in discrete_time]\n",
    "ndt_exp = [0 if t < 0 else config.a ** t for t in discrete_normalized_time]\n",
    "\n",
    "\n",
    "get_plot(discrete_time, np.real(dt_exp))\n",
    "get_plot(discrete_normalized_time, np.real(ndt_exp))"
   ],
   "metadata": {
    "collapsed": false,
    "pycharm": {
     "name": "#%%\n"
    }
   }
  },
  {
   "cell_type": "markdown",
   "source": [
    "Соответствие между дискретной и аналоговой экспонентами:\n",
    "Точки дискретной экспоненты находятся в местах, где для аналоговой экспоненты – целые.  \n",
    "Дискретная экспонента (экспоненциальная последовательность) образуется в результате дискретизации экспоненты."
   ],
   "metadata": {
    "collapsed": false
   }
  },
  {
   "cell_type": "markdown",
   "source": [
    "Пункт 4."
   ],
   "metadata": {
    "collapsed": false
   }
  },
  {
   "cell_type": "code",
   "execution_count": null,
   "outputs": [],
   "source": [
    "harmonic = [config.C * np.exp(1j * config.omega * t) for t in discrete_normalized_time]\n",
    "\n",
    "get_plot(discrete_time, np.real(harmonic))\n",
    "get_plot(discrete_normalized_time, np.imag(harmonic))"
   ],
   "metadata": {
    "collapsed": false,
    "pycharm": {
     "name": "#%%\n"
    }
   }
  },
  {
   "cell_type": "markdown",
   "source": [
    "$C \\cdot e^{j \\hat{\\omega}_0 k} = C \\cdot cos(\\hat{\\omega}_0 k) + j \\cdot C \\cdot sin(\\hat{\\omega}_0 k)$ - Формула Эйлера\n",
    "$C \\cdot cos(\\hat{\\omega}_0 k)$ - действительная часть\n",
    "$C \\cdot sin(\\hat{\\omega}_0 k)$ - мнимая часть\n"
   ],
   "metadata": {
    "collapsed": false
   }
  },
  {
   "cell_type": "markdown",
   "source": [
    "Пункт 5."
   ],
   "metadata": {
    "collapsed": false
   }
  },
  {
   "cell_type": "code",
   "execution_count": null,
   "outputs": [],
   "source": [
    "detained_time = [n - config.m for n in range(config.N)]\n",
    "\n",
    "impulse_ = [int(t == 0) for t in detained_time]\n",
    "step_ = [int(t == 0) for t in detained_time]\n",
    "exp_ = [0 if t < 0 else (config.a ** t) for t in detained_time]\n",
    "\n",
    "get_plot(discrete_time, impulse_)\n",
    "get_plot(discrete_time, step_)\n",
    "get_plot(discrete_time, exp_)"
   ],
   "metadata": {
    "collapsed": false,
    "pycharm": {
     "name": "#%%\n"
    }
   }
  },
  {
   "cell_type": "markdown",
   "source": [
    "Записать формулы задержанных последовательностей.\n",
    "\n",
    "\n",
    "Единичный импульс\n",
    "\n",
    "$$\\delta_d(k-m) = \\begin{cases}\n",
    "1, & k = m\\\\0,\n",
    "& k \\neq m\n",
    "\\end{cases}\n",
    "$$\n",
    "\n",
    "Единичный скачок\n",
    "\n",
    "$$\\sigma_d(k-m) = \\begin{cases}\n",
    "1, & k \\ge m\\\\0,\n",
    "& k < m\n",
    "\\end{cases}\n",
    "$$\n",
    "\n",
    "\n",
    "Дискретная экспоненциальная функция\n",
    "$$s_1(k-m) = \\begin{cases}\n",
    "a^{k-m}, & k \\ge m\\\\0,\n",
    "& k < m\n",
    "\\end{cases}\n",
    "$$"
   ],
   "metadata": {
    "collapsed": false
   }
  },
  {
   "cell_type": "markdown",
   "source": [
    "## Вывод\n",
    "\n",
    "В процессе выполнения лабораторной работы были изучены математически описания дискретных сигналов. Были получены навыки использования программных средств для моделирования сигналов. В ходе работы были смоделированы различные дискретные сигналы, а также построены их графики\n"
   ],
   "metadata": {
    "collapsed": false
   }
  }
 ],
 "metadata": {
  "kernelspec": {
   "display_name": "Python 3 (ipykernel)",
   "language": "python",
   "name": "python3"
  },
  "language_info": {
   "codemirror_mode": {
    "name": "ipython",
    "version": 3
   },
   "file_extension": ".py",
   "mimetype": "text/x-python",
   "name": "python",
   "nbconvert_exporter": "python",
   "pygments_lexer": "ipython3",
   "version": "3.10.4"
  }
 },
 "nbformat": 4,
 "nbformat_minor": 4
}